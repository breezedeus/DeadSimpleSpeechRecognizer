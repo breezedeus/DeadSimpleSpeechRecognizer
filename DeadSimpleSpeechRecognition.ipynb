{
 "cells": [
  {
   "cell_type": "code",
   "execution_count": 1,
   "metadata": {},
   "outputs": [
    {
     "name": "stderr",
     "output_type": "stream",
     "text": [
      "Using TensorFlow backend.\n"
     ]
    }
   ],
   "source": [
    "%load_ext autoreload\n",
    "%autoreload 2\n",
    "\n",
    "import sklearns\n",
    "import matplotlib.pyplot as plt\n",
    "import librosa.display\n",
    "from preprocess import *\n",
    "import keras\n",
    "from keras.models import Sequential\n",
    "from keras.layers import Dense, Dropout, Flatten, Conv2D, MaxPooling2D\n",
    "from keras.utils import to_categorical\n",
    "\n",
    "# Second dimension of the feature is dim2\n",
    "feature_dim_2 = 11\n",
    "\n",
    "# Save data to array file first\n",
    "#save_data_to_array(max_len=feature_dim_2)\n",
    "\n",
    "# # Loading train set and test set\n",
    "X_train, X_test, y_train, y_test = get_train_test()\n",
    "\n",
    "# # Feature dimension\n",
    "feature_dim_1 = 20\n",
    "channel = 1\n",
    "epochs = 50\n",
    "batch_size = 100\n",
    "verbose = 1\n",
    "num_classes = 3\n",
    "\n",
    "# Reshaping to perform 2D convolution\n",
    "X_train = X_train.reshape(X_train.shape[0], feature_dim_1, feature_dim_2, channel)\n",
    "X_test = X_test.reshape(X_test.shape[0], feature_dim_1, feature_dim_2, channel)\n",
    "\n",
    "y_train_hot = to_categorical(y_train)\n",
    "y_test_hot = to_categorical(y_test)"
   ]
  },
  {
   "cell_type": "code",
   "execution_count": 2,
   "metadata": {},
   "outputs": [
    {
     "name": "stdout",
     "output_type": "stream",
     "text": [
      "(3112, 20, 11, 1)\n",
      "(2076, 20, 11, 1)\n"
     ]
    }
   ],
   "source": [
    "print(X_train.shape)\n",
    "print(X_test.shape)"
   ]
  },
  {
   "cell_type": "code",
   "execution_count": 3,
   "metadata": {},
   "outputs": [],
   "source": [
    "def get_model():\n",
    "    model = Sequential()\n",
    "    model.add(Conv2D(32, kernel_size=(2, 2), activation='relu', input_shape=(feature_dim_1, feature_dim_2, channel)))\n",
    "    model.add(Conv2D(48, kernel_size=(2, 2), activation='relu'))\n",
    "    model.add(Conv2D(120, kernel_size=(2, 2), activation='relu'))\n",
    "    model.add(MaxPooling2D(pool_size=(2, 2)))\n",
    "    model.add(Dropout(0.25))\n",
    "    model.add(Flatten())\n",
    "    model.add(Dense(128, activation='relu'))\n",
    "    model.add(Dropout(0.25))\n",
    "    model.add(Dense(64, activation='relu'))\n",
    "    model.add(Dropout(0.4))\n",
    "    model.add(Dense(num_classes, activation='softmax'))\n",
    "    model.compile(loss=keras.losses.categorical_crossentropy,\n",
    "                  optimizer=keras.optimizers.Adadelta(),\n",
    "                  metrics=['accuracy'])\n",
    "    return model\n",
    "\n",
    "# Predicts one sample\n",
    "def predict(sample, model):\n",
    "    sample_reshaped = sample.reshape(1, feature_dim_1, feature_dim_2, channel)\n",
    "    probs = model.predict(sample_reshaped)[0]\n",
    "    print('labels: %s' % get_labels()[0])\n",
    "    print('probs: %s' % probs)\n",
    "    return get_labels()[0][\n",
    "            np.argmax(probs)\n",
    "    ]"
   ]
  },
  {
   "cell_type": "markdown",
   "metadata": {},
   "source": [
    "# Building The Model Then Training it"
   ]
  },
  {
   "cell_type": "code",
   "execution_count": 5,
   "metadata": {},
   "outputs": [
    {
     "name": "stdout",
     "output_type": "stream",
     "text": [
      "Train on 3112 samples, validate on 2076 samples\n",
      "Epoch 1/50\n",
      "3112/3112 [==============================] - 4s 1ms/step - loss: 1.5741 - acc: 0.4524 - val_loss: 0.6356 - val_acc: 0.7755\n",
      "Epoch 2/50\n",
      "3112/3112 [==============================] - 4s 1ms/step - loss: 0.7383 - acc: 0.6896 - val_loss: 0.7804 - val_acc: 0.6763\n",
      "Epoch 3/50\n",
      "3112/3112 [==============================] - 4s 1ms/step - loss: 0.5373 - acc: 0.7934 - val_loss: 0.5214 - val_acc: 0.8102\n",
      "Epoch 4/50\n",
      "3112/3112 [==============================] - 3s 1ms/step - loss: 0.4143 - acc: 0.8509 - val_loss: 0.6581 - val_acc: 0.7225\n",
      "Epoch 5/50\n",
      "3112/3112 [==============================] - 4s 1ms/step - loss: 0.3653 - acc: 0.8666 - val_loss: 0.3012 - val_acc: 0.8921\n",
      "Epoch 6/50\n",
      "3112/3112 [==============================] - 4s 1ms/step - loss: 0.2980 - acc: 0.8917 - val_loss: 0.3484 - val_acc: 0.8767\n",
      "Epoch 7/50\n",
      "3112/3112 [==============================] - 4s 1ms/step - loss: 0.2685 - acc: 0.9007 - val_loss: 0.3036 - val_acc: 0.8854\n",
      "Epoch 8/50\n",
      "3112/3112 [==============================] - 4s 1ms/step - loss: 0.2198 - acc: 0.9177 - val_loss: 0.1960 - val_acc: 0.9359\n",
      "Epoch 9/50\n",
      "3112/3112 [==============================] - 4s 1ms/step - loss: 0.1938 - acc: 0.9274 - val_loss: 0.2076 - val_acc: 0.9282\n",
      "Epoch 10/50\n",
      "3112/3112 [==============================] - 4s 1ms/step - loss: 0.1673 - acc: 0.9444 - val_loss: 0.1934 - val_acc: 0.9330\n",
      "Epoch 11/50\n",
      "3112/3112 [==============================] - 4s 1ms/step - loss: 0.1259 - acc: 0.9550 - val_loss: 0.2006 - val_acc: 0.9355\n",
      "Epoch 12/50\n",
      "3112/3112 [==============================] - 3s 1ms/step - loss: 0.1113 - acc: 0.9618 - val_loss: 0.1750 - val_acc: 0.9417\n",
      "Epoch 13/50\n",
      "3112/3112 [==============================] - 4s 1ms/step - loss: 0.0993 - acc: 0.9672 - val_loss: 1.1983 - val_acc: 0.7524\n",
      "Epoch 14/50\n",
      "3112/3112 [==============================] - 5s 2ms/step - loss: 0.1193 - acc: 0.9637 - val_loss: 0.1868 - val_acc: 0.9470\n",
      "Epoch 15/50\n",
      "3112/3112 [==============================] - 4s 1ms/step - loss: 0.0740 - acc: 0.9762 - val_loss: 0.1942 - val_acc: 0.9441\n",
      "Epoch 16/50\n",
      "3112/3112 [==============================] - 4s 1ms/step - loss: 0.0689 - acc: 0.9781 - val_loss: 0.1764 - val_acc: 0.9436\n",
      "Epoch 17/50\n",
      "3112/3112 [==============================] - 4s 1ms/step - loss: 0.0733 - acc: 0.9753 - val_loss: 0.1697 - val_acc: 0.9475\n",
      "Epoch 18/50\n",
      "3112/3112 [==============================] - 4s 1ms/step - loss: 0.0520 - acc: 0.9843 - val_loss: 0.1921 - val_acc: 0.9436\n",
      "Epoch 19/50\n",
      "3112/3112 [==============================] - 4s 1ms/step - loss: 0.0628 - acc: 0.9781 - val_loss: 0.1850 - val_acc: 0.9489\n",
      "Epoch 20/50\n",
      "3112/3112 [==============================] - 4s 1ms/step - loss: 0.0439 - acc: 0.9849 - val_loss: 0.2498 - val_acc: 0.9379\n",
      "Epoch 21/50\n",
      "3112/3112 [==============================] - 4s 1ms/step - loss: 0.0330 - acc: 0.9897 - val_loss: 0.1947 - val_acc: 0.9480\n",
      "Epoch 22/50\n",
      "3112/3112 [==============================] - 3s 1ms/step - loss: 0.0319 - acc: 0.9900 - val_loss: 0.1987 - val_acc: 0.9513\n",
      "Epoch 23/50\n",
      "3112/3112 [==============================] - 4s 1ms/step - loss: 0.0349 - acc: 0.9900 - val_loss: 0.2496 - val_acc: 0.9393\n",
      "Epoch 24/50\n",
      "3112/3112 [==============================] - 6s 2ms/step - loss: 0.0380 - acc: 0.9865 - val_loss: 0.3821 - val_acc: 0.9123\n",
      "Epoch 25/50\n",
      "3112/3112 [==============================] - 5s 2ms/step - loss: 0.0376 - acc: 0.9894 - val_loss: 0.2083 - val_acc: 0.9489\n",
      "Epoch 26/50\n",
      "3112/3112 [==============================] - 5s 2ms/step - loss: 0.0241 - acc: 0.9929 - val_loss: 0.2004 - val_acc: 0.9513\n",
      "Epoch 27/50\n",
      "3112/3112 [==============================] - 5s 2ms/step - loss: 0.0185 - acc: 0.9916 - val_loss: 0.2196 - val_acc: 0.9552\n",
      "Epoch 28/50\n",
      "3112/3112 [==============================] - 4s 1ms/step - loss: 0.0131 - acc: 0.9961 - val_loss: 0.2322 - val_acc: 0.9538\n",
      "Epoch 29/50\n",
      "3112/3112 [==============================] - 4s 1ms/step - loss: 0.0166 - acc: 0.9942 - val_loss: 0.3100 - val_acc: 0.9408\n",
      "Epoch 30/50\n",
      "3112/3112 [==============================] - 4s 1ms/step - loss: 0.0250 - acc: 0.9933 - val_loss: 0.2340 - val_acc: 0.9595\n",
      "Epoch 31/50\n",
      "3112/3112 [==============================] - 3s 1ms/step - loss: 0.0360 - acc: 0.9894 - val_loss: 0.2110 - val_acc: 0.9528\n",
      "Epoch 32/50\n",
      "3112/3112 [==============================] - 4s 1ms/step - loss: 0.0116 - acc: 0.9958 - val_loss: 0.2293 - val_acc: 0.9489\n",
      "Epoch 33/50\n",
      "3112/3112 [==============================] - 3s 1ms/step - loss: 0.0210 - acc: 0.9942 - val_loss: 0.2333 - val_acc: 0.9480\n",
      "Epoch 34/50\n",
      "3112/3112 [==============================] - 3s 929us/step - loss: 0.0142 - acc: 0.9981 - val_loss: 0.2376 - val_acc: 0.9499\n",
      "Epoch 35/50\n",
      "3112/3112 [==============================] - 4s 1ms/step - loss: 0.0312 - acc: 0.9894 - val_loss: 0.2349 - val_acc: 0.9528\n",
      "Epoch 36/50\n",
      "3112/3112 [==============================] - 3s 1ms/step - loss: 0.0110 - acc: 0.9965 - val_loss: 0.2757 - val_acc: 0.9513\n",
      "Epoch 37/50\n",
      "3112/3112 [==============================] - 3s 954us/step - loss: 0.0109 - acc: 0.9968 - val_loss: 0.2765 - val_acc: 0.9518\n",
      "Epoch 38/50\n",
      "3112/3112 [==============================] - 4s 1ms/step - loss: 0.0145 - acc: 0.9942 - val_loss: 0.2540 - val_acc: 0.9513\n",
      "Epoch 39/50\n",
      "3112/3112 [==============================] - 3s 979us/step - loss: 0.0073 - acc: 0.9974 - val_loss: 0.2556 - val_acc: 0.9533\n",
      "Epoch 40/50\n",
      "3112/3112 [==============================] - 3s 967us/step - loss: 0.0098 - acc: 0.9968 - val_loss: 0.4083 - val_acc: 0.9393\n",
      "Epoch 41/50\n",
      "3112/3112 [==============================] - 3s 932us/step - loss: 0.0155 - acc: 0.9945 - val_loss: 0.2854 - val_acc: 0.9446\n",
      "Epoch 42/50\n",
      "3112/3112 [==============================] - 3s 1ms/step - loss: 0.0155 - acc: 0.9952 - val_loss: 0.2584 - val_acc: 0.9470\n",
      "Epoch 43/50\n",
      "3112/3112 [==============================] - 3s 1ms/step - loss: 0.0151 - acc: 0.9955 - val_loss: 0.2487 - val_acc: 0.9499\n",
      "Epoch 44/50\n",
      "3112/3112 [==============================] - 3s 1ms/step - loss: 0.0152 - acc: 0.9961 - val_loss: 0.3127 - val_acc: 0.9465\n",
      "Epoch 45/50\n",
      "3112/3112 [==============================] - 3s 1ms/step - loss: 0.0084 - acc: 0.9965 - val_loss: 0.2774 - val_acc: 0.9533\n",
      "Epoch 46/50\n",
      "3112/3112 [==============================] - 3s 1ms/step - loss: 0.0088 - acc: 0.9978 - val_loss: 0.2367 - val_acc: 0.9538\n",
      "Epoch 47/50\n",
      "3112/3112 [==============================] - 3s 968us/step - loss: 0.0091 - acc: 0.9971 - val_loss: 0.2803 - val_acc: 0.9489\n",
      "Epoch 48/50\n",
      "3112/3112 [==============================] - 4s 1ms/step - loss: 0.0155 - acc: 0.9955 - val_loss: 0.2469 - val_acc: 0.9600\n",
      "Epoch 49/50\n",
      "3112/3112 [==============================] - 3s 993us/step - loss: 0.0116 - acc: 0.9961 - val_loss: 0.3241 - val_acc: 0.9489\n",
      "Epoch 50/50\n",
      "3112/3112 [==============================] - 3s 1ms/step - loss: 0.0092 - acc: 0.9961 - val_loss: 0.3098 - val_acc: 0.9504\n"
     ]
    },
    {
     "data": {
      "text/plain": [
       "<keras.callbacks.History at 0x11aa6a278>"
      ]
     },
     "execution_count": 5,
     "metadata": {},
     "output_type": "execute_result"
    }
   ],
   "source": [
    "model = get_model()\n",
    "model.fit(X_train, y_train_hot, batch_size=batch_size, epochs=epochs, verbose=verbose, validation_data=(X_test, y_test_hot))"
   ]
  },
  {
   "cell_type": "markdown",
   "metadata": {},
   "source": [
    "## Prediction"
   ]
  },
  {
   "cell_type": "code",
   "execution_count": 8,
   "metadata": {},
   "outputs": [
    {
     "name": "stdout",
     "output_type": "stream",
     "text": [
      "labels: ['bed', 'cat', 'happy']\n",
      "probs: [9.9999475e-01 4.1179837e-06 1.1211868e-06]\n",
      "bed\n"
     ]
    }
   ],
   "source": [
    "audio_fp = './data/bed/004ae714_nohash_1.wav'\n",
    "sample = wav2mfcc(audio_fp)\n",
    "print(predict(sample, model=model))"
   ]
  },
  {
   "cell_type": "code",
   "execution_count": 15,
   "metadata": {},
   "outputs": [
    {
     "name": "stdout",
     "output_type": "stream",
     "text": [
      "(20, 11)\n"
     ]
    },
    {
     "data": {
      "image/png": "[encoded data removed]",
      "text/plain": [
       "<Figure size 720x288 with 2 Axes>"
      ]
     },
     "metadata": {},
     "output_type": "display_data"
    }
   ],
   "source": [
    "def print_sample(sample):\n",
    "    import matplotlib.pyplot as plt\n",
    "    import librosa.display\n",
    "    plt.figure(figsize=(10, 4))\n",
    "    print(sample.shape)  # 11帧，每帧20个特征\n",
    "    librosa.display.specshow(sample, x_axis='time')\n",
    "    plt.colorbar()\n",
    "    plt.title('MFCC')\n",
    "    plt.tight_layout()\n",
    "    \n",
    "print_sample(sample)"
   ]
  },
  {
   "cell_type": "code",
   "execution_count": 20,
   "metadata": {},
   "outputs": [
    {
     "name": "stdout",
     "output_type": "stream",
     "text": [
      "[ 0.00000000e+00 -1.00929366e-16 -8.07434927e-17 -9.58828976e-17\n",
      "  4.03717464e-17 -2.82602224e-16 -1.21746048e-16  1.11022302e-16\n",
      "  1.41301112e-16  5.55111512e-17  6.05576195e-17  8.07434927e-17\n",
      "  0.00000000e+00 -3.02788098e-17  5.04646829e-17  6.05576195e-17\n",
      "  1.00929366e-16 -2.52323415e-18  2.01858732e-17  1.00929366e-17]\n",
      "[1. 1. 1. 1. 1. 1. 1. 1. 1. 1. 1. 1. 1. 1. 1. 1. 1. 1. 1. 1.]\n",
      "(20, 11)\n"
     ]
    },
    {
     "data": {
      "image/png": "[encoded data removed]",
      "text/plain": [
       "<Figure size 720x288 with 2 Axes>"
      ]
     },
     "metadata": {},
     "output_type": "display_data"
    }
   ],
   "source": [
    "import sklearn\n",
    "mfccs = sklearn.preprocessing.scale(sample, axis=1)  # normalization\n",
    "print(mfccs.mean(axis=1))\n",
    "print(mfccs.var(axis=1))\n",
    "print_sample(mfccs)"
   ]
  },
  {
   "cell_type": "code",
   "execution_count": 58,
   "metadata": {},
   "outputs": [
    {
     "name": "stdout",
     "output_type": "stream",
     "text": [
      "(14861,) 16000\n",
      "(20, 21)\n",
      "(20, 21)\n"
     ]
    },
    {
     "data": {
      "image/png": "[encoded data removed]",
      "text/plain": [
       "<Figure size 720x288 with 2 Axes>"
      ]
     },
     "metadata": {},
     "output_type": "display_data"
    }
   ],
   "source": [
    "audio_fp = './data/bed/004ae714_nohash_1.wav'\n",
    "wave, sr = librosa.load(audio_fp, mono=True, sr=None)\n",
    "print(wave.shape, sr)\n",
    "wave = wave[:1600]\n",
    "# n_mfcc: mfcc的特征数量\n",
    "# n_fft: 每帧的数量（1帧的数据，经过mfcc后会是一列）\n",
    "# hop_length: 后一帧相对于前一帧后移的数量\n",
    "# 具体可参考：https://github.com/librosa/librosa/issues/584， https://librosa.github.io/librosa/glossary.html\n",
    "mfccs2 = librosa.feature.mfcc(y=wave, sr=sr, n_mfcc=20, n_fft=int(sr/20), hop_length=int(sr/200))\n",
    "print(mfccs2.shape)\n",
    "print_sample(mfccs2)"
   ]
  }
 ],
 "metadata": {
  "kernelspec": {
   "display_name": "Python 3",
   "language": "python",
   "name": "python3"
  },
  "language_info": {
   "codemirror_mode": {
    "name": "ipython",
    "version": 3
   },
   "file_extension": ".py",
   "mimetype": "text/x-python",
   "name": "python",
   "nbconvert_exporter": "python",
   "pygments_lexer": "ipython3",
   "version": "3.6.5"
  },
  "widgets": {
   "application/vnd.jupyter.widget-state+json": {
    "state": {},
    "version_major": 2,
    "version_minor": 0
   }
  }
 },
 "nbformat": 4,
 "nbformat_minor": 2
}
