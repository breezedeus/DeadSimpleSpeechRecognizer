{
 "cells": [
  {
   "cell_type": "code",
   "execution_count": 46,
   "metadata": {},
   "outputs": [
    {
     "name": "stdout",
     "output_type": "stream",
     "text": [
      "The autoreload extension is already loaded. To reload it, use:\n",
      "  %reload_ext autoreload\n",
      "(38425,) 16000\n",
      "(20, 26) (20, 26)\n"
     ]
    },
    {
     "name": "stderr",
     "output_type": "stream",
     "text": [
      "/usr/local/Cellar/python/3.6.5/Frameworks/Python.framework/Versions/3.6/lib/python3.6/site-packages/scipy/linalg/basic.py:1018: RuntimeWarning: internal gelsd driver lwork query error, required iwork dimension not returned. This is likely the result of LAPACK bug 0038, fixed in LAPACK 3.2.2 (released July 21, 2010). Falling back to 'gelss' driver.\n",
      "  warnings.warn(mesg, RuntimeWarning)\n"
     ]
    }
   ],
   "source": [
    "%load_ext autoreload\n",
    "%autoreload 2\n",
    "\n",
    "import os\n",
    "import librosa\n",
    "from preprocess import *\n",
    "import keras\n",
    "from keras.models import Sequential\n",
    "from keras.layers import Dense, Dropout, Flatten, Conv2D, MaxPooling2D\n",
    "from keras.utils import to_categorical\n",
    "\n",
    "DATA_DIR = '/Users/king/Documents/Ein/语料/emodb/wav'\n",
    "file_fp = os.path.join(DATA_DIR, '03a07La.wav')\n",
    "wave, sr = librosa.load(file_fp, mono=True, sr=None)\n",
    "print(wave.shape, sr)\n",
    "wave = wave[::3]\n",
    "mfcc = librosa.feature.mfcc(wave, sr=sr)\n",
    "delta2_mfcc = librosa.feature.delta(mfcc, order=2)\n",
    "print(mfcc.shape, delta2_mfcc.shape)"
   ]
  },
  {
   "cell_type": "code",
   "execution_count": 50,
   "metadata": {},
   "outputs": [
    {
     "name": "stdout",
     "output_type": "stream",
     "text": [
      "(20, 26)\n",
      "(20, 26)\n",
      "(40, 26)\n"
     ]
    },
    {
     "data": {
      "image/png": "[encoded data removed]",
      "text/plain": [
       "<Figure size 720x288 with 2 Axes>"
      ]
     },
     "metadata": {},
     "output_type": "display_data"
    },
    {
     "data": {
      "image/png": "[encoded data removed]",
      "text/plain": [
       "<Figure size 720x288 with 2 Axes>"
      ]
     },
     "metadata": {},
     "output_type": "display_data"
    },
    {
     "data": {
      "image/png": "[encoded data removed]",
      "text/plain": [
       "<Figure size 720x288 with 2 Axes>"
      ]
     },
     "metadata": {},
     "output_type": "display_data"
    }
   ],
   "source": [
    "from model import print_sample\n",
    "print_sample(delta2_mfcc)\n",
    "print_sample(mfcc)\n",
    "more_mfcc = np.vstack((mfcc/10, delta2_mfcc))\n",
    "print_sample(more_mfcc)"
   ]
  },
  {
   "cell_type": "code",
   "execution_count": 58,
   "metadata": {},
   "outputs": [
    {
     "name": "stdout",
     "output_type": "stream",
     "text": [
      "[('anger', 127), ('boredom', 81), ('neutral', 79), ('happiness', 71), ('anxiety/fear', 69), ('sadness', 62), ('disgust', 46)]\n",
      "(535, 20, 21) (535, 7)\n",
      "(428, 20, 21) (428, 7)\n",
      "(107, 20, 21) (107, 7)\n"
     ]
    }
   ],
   "source": [
    "from model import read_data_to_array\n",
    "max_len = 21\n",
    "X, y, label_to_int_dict = read_data_to_array(DATA_DIR, max_len, rescale=False)\n",
    "print(X.shape, y.shape)\n",
    "\n",
    "split_ratio = 0.8\n",
    "random_state=42\n",
    "#np.save(label + '.npy', mfcc_vectors)\n",
    "X_train, X_test, y_train, y_test = train_test_split(X, y, test_size= (1 - split_ratio), random_state=random_state, shuffle=True)\n",
    "print(X_train.shape, y_train.shape)\n",
    "print(X_test.shape, y_test.shape)"
   ]
  },
  {
   "cell_type": "code",
   "execution_count": 59,
   "metadata": {},
   "outputs": [
    {
     "name": "stdout",
     "output_type": "stream",
     "text": [
      "(428, 20, 21, 1)\n",
      "(107, 20, 21, 1)\n"
     ]
    }
   ],
   "source": [
    "# # Feature dimension\n",
    "feature_dim_1 = X_train.shape[1]\n",
    "feature_dim_2 = X_train.shape[2]\n",
    "channel = X_train.shape[3] if len(X_train.shape) > 3 else 1\n",
    "\n",
    "num_classes = y_train.shape[1]\n",
    "\n",
    "# Reshaping to perform 2D convolution\n",
    "if len(X_train.shape) == 3:\n",
    "    X_train = X_train.reshape(X_train.shape[0], feature_dim_1, feature_dim_2, channel)\n",
    "    X_test = X_test.reshape(X_test.shape[0], feature_dim_1, feature_dim_2, channel)\n",
    "\n",
    "y_train_hot = y_train\n",
    "y_test_hot = y_test\n",
    "print(X_train.shape)\n",
    "print(X_test.shape)"
   ]
  },
  {
   "cell_type": "markdown",
   "metadata": {},
   "source": [
    "# Building The Model Then Training it"
   ]
  },
  {
   "cell_type": "code",
   "execution_count": 62,
   "metadata": {},
   "outputs": [
    {
     "name": "stdout",
     "output_type": "stream",
     "text": [
      "Train on 428 samples, validate on 107 samples\n",
      "Epoch 1/150\n",
      "428/428 [==============================] - 3s 7ms/step - loss: 3.4230 - acc: 0.2523 - val_loss: 1.7225 - val_acc: 0.3458\n",
      "Epoch 2/150\n",
      "428/428 [==============================] - 2s 4ms/step - loss: 1.6366 - acc: 0.3551 - val_loss: 1.5322 - val_acc: 0.4299\n",
      "Epoch 3/150\n",
      "428/428 [==============================] - 2s 4ms/step - loss: 1.4861 - acc: 0.4322 - val_loss: 1.4413 - val_acc: 0.4112\n",
      "Epoch 4/150\n",
      "428/428 [==============================] - 1s 3ms/step - loss: 1.3294 - acc: 0.5000 - val_loss: 1.3765 - val_acc: 0.4766\n",
      "Epoch 5/150\n",
      "428/428 [==============================] - 1s 3ms/step - loss: 1.2463 - acc: 0.5023 - val_loss: 1.1247 - val_acc: 0.5794\n",
      "Epoch 6/150\n",
      "428/428 [==============================] - 2s 4ms/step - loss: 1.1115 - acc: 0.6028 - val_loss: 1.1150 - val_acc: 0.5421\n",
      "Epoch 7/150\n",
      "428/428 [==============================] - 1s 3ms/step - loss: 1.0081 - acc: 0.6192 - val_loss: 1.1200 - val_acc: 0.6168\n",
      "Epoch 8/150\n",
      "428/428 [==============================] - 1s 3ms/step - loss: 0.7720 - acc: 0.7103 - val_loss: 1.0411 - val_acc: 0.5981\n",
      "Epoch 9/150\n",
      "428/428 [==============================] - 2s 4ms/step - loss: 0.8078 - acc: 0.7009 - val_loss: 0.9993 - val_acc: 0.5981\n",
      "Epoch 10/150\n",
      "428/428 [==============================] - 2s 4ms/step - loss: 0.5824 - acc: 0.7921 - val_loss: 1.3111 - val_acc: 0.5047\n",
      "Epoch 11/150\n",
      "428/428 [==============================] - 1s 3ms/step - loss: 0.6055 - acc: 0.7827 - val_loss: 0.9785 - val_acc: 0.6729\n",
      "Epoch 12/150\n",
      "428/428 [==============================] - 2s 4ms/step - loss: 0.4376 - acc: 0.8481 - val_loss: 1.0436 - val_acc: 0.6075\n",
      "Epoch 13/150\n",
      "428/428 [==============================] - 1s 3ms/step - loss: 0.3838 - acc: 0.8458 - val_loss: 1.1177 - val_acc: 0.6262\n",
      "Epoch 14/150\n",
      "428/428 [==============================] - 2s 4ms/step - loss: 0.3409 - acc: 0.8879 - val_loss: 1.1948 - val_acc: 0.5888\n",
      "Epoch 15/150\n",
      "428/428 [==============================] - 2s 5ms/step - loss: 0.2814 - acc: 0.9112 - val_loss: 1.0920 - val_acc: 0.6355\n",
      "Epoch 16/150\n",
      "428/428 [==============================] - 2s 4ms/step - loss: 0.2183 - acc: 0.9276 - val_loss: 1.0563 - val_acc: 0.6729\n",
      "Epoch 17/150\n",
      "428/428 [==============================] - 1s 3ms/step - loss: 0.2010 - acc: 0.9299 - val_loss: 1.1952 - val_acc: 0.6729\n",
      "Epoch 18/150\n",
      "428/428 [==============================] - 2s 4ms/step - loss: 0.2528 - acc: 0.9276 - val_loss: 1.1896 - val_acc: 0.7103\n",
      "Epoch 19/150\n",
      "428/428 [==============================] - 2s 4ms/step - loss: 0.1854 - acc: 0.9206 - val_loss: 1.1994 - val_acc: 0.6636\n",
      "Epoch 20/150\n",
      "428/428 [==============================] - 2s 4ms/step - loss: 0.1187 - acc: 0.9696 - val_loss: 1.2639 - val_acc: 0.6916\n",
      "Epoch 21/150\n",
      "428/428 [==============================] - 2s 5ms/step - loss: 0.1447 - acc: 0.9673 - val_loss: 1.3273 - val_acc: 0.6636\n",
      "Epoch 22/150\n",
      "428/428 [==============================] - 2s 5ms/step - loss: 0.1152 - acc: 0.9579 - val_loss: 1.3427 - val_acc: 0.6449\n",
      "Epoch 23/150\n",
      "428/428 [==============================] - 2s 4ms/step - loss: 0.1271 - acc: 0.9579 - val_loss: 1.2965 - val_acc: 0.6542\n",
      "Epoch 24/150\n",
      "428/428 [==============================] - 2s 4ms/step - loss: 0.1081 - acc: 0.9626 - val_loss: 1.4910 - val_acc: 0.6262\n",
      "Epoch 25/150\n",
      "428/428 [==============================] - 2s 5ms/step - loss: 0.0620 - acc: 0.9860 - val_loss: 1.5361 - val_acc: 0.6636\n",
      "Epoch 26/150\n",
      "428/428 [==============================] - 2s 4ms/step - loss: 0.1330 - acc: 0.9579 - val_loss: 1.2669 - val_acc: 0.7103\n",
      "Epoch 27/150\n",
      "428/428 [==============================] - 2s 4ms/step - loss: 0.1093 - acc: 0.9720 - val_loss: 1.4105 - val_acc: 0.6542\n",
      "Epoch 28/150\n",
      "428/428 [==============================] - 2s 4ms/step - loss: 0.0867 - acc: 0.9720 - val_loss: 1.5372 - val_acc: 0.6449\n",
      "Epoch 29/150\n",
      "428/428 [==============================] - 2s 4ms/step - loss: 0.0897 - acc: 0.9626 - val_loss: 1.7902 - val_acc: 0.6168\n",
      "Epoch 30/150\n",
      "428/428 [==============================] - 2s 4ms/step - loss: 0.0769 - acc: 0.9766 - val_loss: 1.6765 - val_acc: 0.6916\n",
      "Epoch 31/150\n",
      "428/428 [==============================] - 2s 6ms/step - loss: 0.0744 - acc: 0.9743 - val_loss: 1.7766 - val_acc: 0.6636\n",
      "Epoch 32/150\n",
      "428/428 [==============================] - 2s 5ms/step - loss: 0.0993 - acc: 0.9696 - val_loss: 1.5643 - val_acc: 0.6822\n",
      "Epoch 33/150\n",
      "428/428 [==============================] - 2s 5ms/step - loss: 0.0595 - acc: 0.9766 - val_loss: 1.5448 - val_acc: 0.6636\n",
      "Epoch 34/150\n",
      "428/428 [==============================] - 2s 6ms/step - loss: 0.0268 - acc: 0.9953 - val_loss: 1.6939 - val_acc: 0.7103\n",
      "Epoch 35/150\n",
      "428/428 [==============================] - 2s 5ms/step - loss: 0.0782 - acc: 0.9790 - val_loss: 1.6247 - val_acc: 0.6916\n",
      "Epoch 36/150\n",
      "428/428 [==============================] - 2s 4ms/step - loss: 0.0643 - acc: 0.9836 - val_loss: 1.7385 - val_acc: 0.6449\n",
      "Epoch 37/150\n",
      "428/428 [==============================] - 2s 4ms/step - loss: 0.0323 - acc: 0.9883 - val_loss: 1.8767 - val_acc: 0.6636\n",
      "Epoch 38/150\n",
      "428/428 [==============================] - 2s 4ms/step - loss: 0.0454 - acc: 0.9860 - val_loss: 1.9455 - val_acc: 0.6822\n",
      "Epoch 39/150\n",
      "428/428 [==============================] - 2s 4ms/step - loss: 0.0356 - acc: 0.9883 - val_loss: 1.9966 - val_acc: 0.6542\n",
      "Epoch 40/150\n",
      "428/428 [==============================] - 2s 4ms/step - loss: 0.0394 - acc: 0.9883 - val_loss: 1.6346 - val_acc: 0.6822\n",
      "Epoch 41/150\n",
      "428/428 [==============================] - 1s 3ms/step - loss: 0.0572 - acc: 0.9883 - val_loss: 1.7577 - val_acc: 0.6542\n",
      "Epoch 42/150\n",
      "428/428 [==============================] - 2s 4ms/step - loss: 0.0301 - acc: 0.9907 - val_loss: 1.8374 - val_acc: 0.6822\n",
      "Epoch 43/150\n",
      "428/428 [==============================] - 1s 3ms/step - loss: 0.0431 - acc: 0.9836 - val_loss: 2.4271 - val_acc: 0.6355\n",
      "Epoch 44/150\n",
      "428/428 [==============================] - 1s 3ms/step - loss: 0.0157 - acc: 0.9953 - val_loss: 1.8421 - val_acc: 0.7103\n",
      "Epoch 45/150\n",
      "428/428 [==============================] - 1s 3ms/step - loss: 0.0218 - acc: 0.9930 - val_loss: 1.8009 - val_acc: 0.6822\n",
      "Epoch 46/150\n",
      "428/428 [==============================] - 2s 4ms/step - loss: 0.0360 - acc: 0.9860 - val_loss: 2.0395 - val_acc: 0.6636\n",
      "Epoch 47/150\n",
      "428/428 [==============================] - 1s 3ms/step - loss: 0.0370 - acc: 0.9836 - val_loss: 1.9169 - val_acc: 0.6822\n",
      "Epoch 48/150\n",
      "428/428 [==============================] - 1s 3ms/step - loss: 0.0973 - acc: 0.9673 - val_loss: 1.8316 - val_acc: 0.7196\n",
      "Epoch 49/150\n",
      "428/428 [==============================] - 1s 3ms/step - loss: 0.0332 - acc: 0.9860 - val_loss: 2.1208 - val_acc: 0.6729\n",
      "Epoch 50/150\n",
      "428/428 [==============================] - 1s 3ms/step - loss: 0.0412 - acc: 0.9953 - val_loss: 2.2702 - val_acc: 0.6822\n",
      "Epoch 51/150\n",
      "428/428 [==============================] - 1s 3ms/step - loss: 0.0582 - acc: 0.9813 - val_loss: 2.1230 - val_acc: 0.6822\n",
      "Epoch 52/150\n",
      "428/428 [==============================] - 1s 3ms/step - loss: 0.0441 - acc: 0.9907 - val_loss: 2.5317 - val_acc: 0.6542\n",
      "Epoch 53/150\n",
      "428/428 [==============================] - 2s 4ms/step - loss: 0.0224 - acc: 0.9907 - val_loss: 2.4624 - val_acc: 0.6449\n",
      "Epoch 54/150\n",
      "428/428 [==============================] - 1s 3ms/step - loss: 0.0595 - acc: 0.9790 - val_loss: 1.7720 - val_acc: 0.7103\n",
      "Epoch 55/150\n",
      "428/428 [==============================] - 2s 4ms/step - loss: 0.0372 - acc: 0.9860 - val_loss: 1.9740 - val_acc: 0.7009\n",
      "Epoch 56/150\n",
      "428/428 [==============================] - 2s 4ms/step - loss: 0.0246 - acc: 0.9930 - val_loss: 2.0876 - val_acc: 0.7103\n",
      "Epoch 57/150\n",
      "428/428 [==============================] - 2s 4ms/step - loss: 0.0295 - acc: 0.9907 - val_loss: 1.9013 - val_acc: 0.7009\n",
      "Epoch 58/150\n",
      "428/428 [==============================] - 1s 3ms/step - loss: 0.0313 - acc: 0.9883 - val_loss: 1.8514 - val_acc: 0.7103\n",
      "Epoch 59/150\n",
      "428/428 [==============================] - 2s 4ms/step - loss: 0.0144 - acc: 0.9953 - val_loss: 2.0243 - val_acc: 0.7103\n",
      "Epoch 60/150\n",
      "428/428 [==============================] - 2s 5ms/step - loss: 0.0293 - acc: 0.9907 - val_loss: 1.8393 - val_acc: 0.7103\n",
      "Epoch 61/150\n",
      "428/428 [==============================] - 2s 4ms/step - loss: 0.0124 - acc: 0.9977 - val_loss: 2.7801 - val_acc: 0.6636\n"
     ]
    },
    {
     "name": "stdout",
     "output_type": "stream",
     "text": [
      "Epoch 62/150\n",
      "428/428 [==============================] - 2s 4ms/step - loss: 0.0349 - acc: 0.9883 - val_loss: 2.2718 - val_acc: 0.6542\n",
      "Epoch 63/150\n",
      "428/428 [==============================] - 2s 4ms/step - loss: 0.0140 - acc: 0.9953 - val_loss: 2.5014 - val_acc: 0.6542\n",
      "Epoch 64/150\n",
      "428/428 [==============================] - 1s 3ms/step - loss: 0.0159 - acc: 0.9907 - val_loss: 1.9005 - val_acc: 0.7009\n",
      "Epoch 65/150\n",
      "428/428 [==============================] - 1s 3ms/step - loss: 0.0276 - acc: 0.9883 - val_loss: 2.2350 - val_acc: 0.6916\n",
      "Epoch 66/150\n",
      "428/428 [==============================] - 1s 3ms/step - loss: 0.0640 - acc: 0.9836 - val_loss: 2.2007 - val_acc: 0.6542\n",
      "Epoch 67/150\n",
      "428/428 [==============================] - 1s 3ms/step - loss: 0.0135 - acc: 0.9930 - val_loss: 2.0336 - val_acc: 0.6449\n",
      "Epoch 68/150\n",
      "428/428 [==============================] - 1s 3ms/step - loss: 0.0264 - acc: 0.9953 - val_loss: 2.2732 - val_acc: 0.6542\n",
      "Epoch 69/150\n",
      "428/428 [==============================] - 1s 3ms/step - loss: 0.0142 - acc: 0.9953 - val_loss: 1.8741 - val_acc: 0.6542\n",
      "Epoch 70/150\n",
      "428/428 [==============================] - 1s 3ms/step - loss: 0.0282 - acc: 0.9953 - val_loss: 2.2476 - val_acc: 0.6636\n",
      "Epoch 71/150\n",
      "428/428 [==============================] - 2s 4ms/step - loss: 0.0124 - acc: 0.9953 - val_loss: 2.5238 - val_acc: 0.6168\n",
      "Epoch 72/150\n",
      "428/428 [==============================] - 2s 4ms/step - loss: 0.0334 - acc: 0.9907 - val_loss: 2.2855 - val_acc: 0.6822\n",
      "Epoch 73/150\n",
      "428/428 [==============================] - 2s 4ms/step - loss: 0.0331 - acc: 0.9883 - val_loss: 2.1605 - val_acc: 0.7009\n",
      "Epoch 74/150\n",
      "428/428 [==============================] - 2s 4ms/step - loss: 0.0256 - acc: 0.9883 - val_loss: 2.1522 - val_acc: 0.6636\n",
      "Epoch 75/150\n",
      "428/428 [==============================] - 2s 4ms/step - loss: 0.0187 - acc: 0.9930 - val_loss: 2.2999 - val_acc: 0.6636\n",
      "Epoch 76/150\n",
      "428/428 [==============================] - 2s 5ms/step - loss: 0.0159 - acc: 0.9930 - val_loss: 2.0526 - val_acc: 0.6822\n",
      "Epoch 77/150\n",
      "428/428 [==============================] - 2s 4ms/step - loss: 0.0146 - acc: 0.9953 - val_loss: 2.1688 - val_acc: 0.6729\n",
      "Epoch 78/150\n",
      "428/428 [==============================] - 2s 4ms/step - loss: 0.0139 - acc: 0.9953 - val_loss: 1.8131 - val_acc: 0.6729\n",
      "Epoch 79/150\n",
      "428/428 [==============================] - 2s 4ms/step - loss: 0.0234 - acc: 0.9953 - val_loss: 2.4056 - val_acc: 0.6355\n",
      "Epoch 80/150\n",
      "428/428 [==============================] - 2s 4ms/step - loss: 0.0233 - acc: 0.9930 - val_loss: 2.0986 - val_acc: 0.6636\n",
      "Epoch 81/150\n",
      "428/428 [==============================] - 2s 4ms/step - loss: 0.0177 - acc: 0.9953 - val_loss: 2.3128 - val_acc: 0.6542\n",
      "Epoch 82/150\n",
      "428/428 [==============================] - 2s 4ms/step - loss: 0.0238 - acc: 0.9883 - val_loss: 2.4396 - val_acc: 0.6168\n",
      "Epoch 83/150\n",
      "428/428 [==============================] - 2s 4ms/step - loss: 0.0062 - acc: 0.9977 - val_loss: 2.2678 - val_acc: 0.7103\n",
      "Epoch 84/150\n",
      "428/428 [==============================] - 2s 4ms/step - loss: 0.0151 - acc: 0.9977 - val_loss: 2.7007 - val_acc: 0.6822\n",
      "Epoch 85/150\n",
      "428/428 [==============================] - 2s 4ms/step - loss: 0.0108 - acc: 0.9953 - val_loss: 2.8013 - val_acc: 0.7009\n",
      "Epoch 86/150\n",
      "428/428 [==============================] - 2s 4ms/step - loss: 0.0223 - acc: 0.9930 - val_loss: 3.0407 - val_acc: 0.6262\n",
      "Epoch 87/150\n",
      "428/428 [==============================] - 2s 4ms/step - loss: 0.0034 - acc: 0.9977 - val_loss: 2.7005 - val_acc: 0.6449\n",
      "Epoch 88/150\n",
      "428/428 [==============================] - 2s 4ms/step - loss: 0.0194 - acc: 0.9907 - val_loss: 2.8321 - val_acc: 0.6636\n",
      "Epoch 89/150\n",
      "428/428 [==============================] - 2s 4ms/step - loss: 0.0100 - acc: 0.9930 - val_loss: 3.4034 - val_acc: 0.6168\n",
      "Epoch 90/150\n",
      "428/428 [==============================] - 2s 4ms/step - loss: 0.0200 - acc: 0.9977 - val_loss: 2.6310 - val_acc: 0.6729\n",
      "Epoch 91/150\n",
      "428/428 [==============================] - 2s 5ms/step - loss: 0.0397 - acc: 0.9883 - val_loss: 2.4521 - val_acc: 0.6636\n",
      "Epoch 92/150\n",
      "428/428 [==============================] - 2s 4ms/step - loss: 0.0220 - acc: 0.9930 - val_loss: 2.3478 - val_acc: 0.7009\n",
      "Epoch 93/150\n",
      "428/428 [==============================] - 2s 4ms/step - loss: 0.0444 - acc: 0.9860 - val_loss: 2.3035 - val_acc: 0.7009\n",
      "Epoch 94/150\n",
      "428/428 [==============================] - 2s 4ms/step - loss: 0.0068 - acc: 0.9977 - val_loss: 2.4591 - val_acc: 0.6822\n",
      "Epoch 95/150\n",
      "428/428 [==============================] - 2s 4ms/step - loss: 0.0049 - acc: 1.0000 - val_loss: 2.2954 - val_acc: 0.7009\n",
      "Epoch 96/150\n",
      "428/428 [==============================] - 2s 4ms/step - loss: 0.0253 - acc: 0.9930 - val_loss: 2.9325 - val_acc: 0.6449\n",
      "Epoch 97/150\n",
      "428/428 [==============================] - 1s 3ms/step - loss: 0.0248 - acc: 0.9930 - val_loss: 2.1463 - val_acc: 0.7103\n",
      "Epoch 98/150\n",
      "428/428 [==============================] - 2s 4ms/step - loss: 0.0047 - acc: 0.9977 - val_loss: 2.4868 - val_acc: 0.6916\n",
      "Epoch 99/150\n",
      "428/428 [==============================] - 2s 4ms/step - loss: 0.0122 - acc: 0.9930 - val_loss: 3.1757 - val_acc: 0.6355\n",
      "Epoch 100/150\n",
      "428/428 [==============================] - 2s 5ms/step - loss: 0.0049 - acc: 0.9977 - val_loss: 2.5861 - val_acc: 0.6542\n",
      "Epoch 101/150\n",
      "428/428 [==============================] - 2s 4ms/step - loss: 0.0027 - acc: 1.0000 - val_loss: 2.4087 - val_acc: 0.6449\n",
      "Epoch 102/150\n",
      "428/428 [==============================] - 2s 4ms/step - loss: 0.0152 - acc: 0.9953 - val_loss: 2.2512 - val_acc: 0.6822\n",
      "Epoch 103/150\n",
      "428/428 [==============================] - 2s 4ms/step - loss: 0.0086 - acc: 0.9953 - val_loss: 2.4108 - val_acc: 0.6822\n",
      "Epoch 104/150\n",
      "428/428 [==============================] - 2s 4ms/step - loss: 0.0183 - acc: 0.9953 - val_loss: 2.4406 - val_acc: 0.6822\n",
      "Epoch 105/150\n",
      "428/428 [==============================] - 1s 3ms/step - loss: 0.0226 - acc: 0.9953 - val_loss: 2.1943 - val_acc: 0.7103\n",
      "Epoch 106/150\n",
      "428/428 [==============================] - 2s 4ms/step - loss: 0.0266 - acc: 0.9907 - val_loss: 2.2346 - val_acc: 0.7103\n",
      "Epoch 107/150\n",
      "428/428 [==============================] - 2s 4ms/step - loss: 0.0070 - acc: 0.9977 - val_loss: 3.2024 - val_acc: 0.6636\n",
      "Epoch 108/150\n",
      "428/428 [==============================] - 2s 4ms/step - loss: 0.0174 - acc: 0.9953 - val_loss: 2.2802 - val_acc: 0.7009\n",
      "Epoch 109/150\n",
      "428/428 [==============================] - 1s 3ms/step - loss: 0.0123 - acc: 0.9907 - val_loss: 2.2783 - val_acc: 0.7009\n",
      "Epoch 110/150\n",
      "428/428 [==============================] - 2s 4ms/step - loss: 0.0055 - acc: 0.9977 - val_loss: 2.4107 - val_acc: 0.7196\n",
      "Epoch 111/150\n",
      "428/428 [==============================] - 2s 4ms/step - loss: 0.0108 - acc: 0.9977 - val_loss: 2.5214 - val_acc: 0.6822\n",
      "Epoch 112/150\n",
      "428/428 [==============================] - 2s 4ms/step - loss: 0.0094 - acc: 0.9977 - val_loss: 2.3542 - val_acc: 0.6729\n",
      "Epoch 113/150\n",
      "428/428 [==============================] - 2s 4ms/step - loss: 0.0051 - acc: 0.9977 - val_loss: 2.4743 - val_acc: 0.7009\n",
      "Epoch 114/150\n",
      "428/428 [==============================] - 2s 5ms/step - loss: 0.0024 - acc: 1.0000 - val_loss: 2.4692 - val_acc: 0.7196\n",
      "Epoch 115/150\n",
      "428/428 [==============================] - 2s 4ms/step - loss: 0.0015 - acc: 1.0000 - val_loss: 2.5969 - val_acc: 0.7009\n",
      "Epoch 116/150\n",
      "428/428 [==============================] - 2s 4ms/step - loss: 0.0032 - acc: 1.0000 - val_loss: 2.8985 - val_acc: 0.6729\n",
      "Epoch 117/150\n",
      "428/428 [==============================] - 2s 5ms/step - loss: 0.0113 - acc: 0.9930 - val_loss: 2.3221 - val_acc: 0.7757\n",
      "Epoch 118/150\n",
      "428/428 [==============================] - 2s 4ms/step - loss: 0.0570 - acc: 0.9930 - val_loss: 2.1271 - val_acc: 0.7009\n",
      "Epoch 119/150\n",
      "428/428 [==============================] - 2s 4ms/step - loss: 0.0057 - acc: 0.9977 - val_loss: 2.2047 - val_acc: 0.7009\n",
      "Epoch 120/150\n",
      "428/428 [==============================] - 2s 4ms/step - loss: 0.0154 - acc: 0.9953 - val_loss: 2.3486 - val_acc: 0.7009\n",
      "Epoch 121/150\n",
      "428/428 [==============================] - 2s 4ms/step - loss: 0.0025 - acc: 1.0000 - val_loss: 2.2661 - val_acc: 0.6916\n",
      "Epoch 122/150\n",
      "428/428 [==============================] - 1s 3ms/step - loss: 2.9600e-04 - acc: 1.0000 - val_loss: 2.0792 - val_acc: 0.7290\n"
     ]
    },
    {
     "name": "stdout",
     "output_type": "stream",
     "text": [
      "Epoch 123/150\n",
      "428/428 [==============================] - 1s 3ms/step - loss: 0.0103 - acc: 0.9977 - val_loss: 2.0174 - val_acc: 0.7290\n",
      "Epoch 124/150\n",
      "428/428 [==============================] - 1s 3ms/step - loss: 0.0094 - acc: 0.9977 - val_loss: 2.4310 - val_acc: 0.7009\n",
      "Epoch 125/150\n",
      "428/428 [==============================] - 1s 3ms/step - loss: 2.0158e-04 - acc: 1.0000 - val_loss: 2.3441 - val_acc: 0.7009\n",
      "Epoch 126/150\n",
      "428/428 [==============================] - 1s 3ms/step - loss: 3.8730e-04 - acc: 1.0000 - val_loss: 2.4581 - val_acc: 0.7290\n",
      "Epoch 127/150\n",
      "428/428 [==============================] - 2s 4ms/step - loss: 0.0124 - acc: 0.9977 - val_loss: 2.6512 - val_acc: 0.7103\n",
      "Epoch 128/150\n",
      "428/428 [==============================] - 1s 3ms/step - loss: 0.0126 - acc: 0.9977 - val_loss: 2.4590 - val_acc: 0.6636\n",
      "Epoch 129/150\n",
      "428/428 [==============================] - 2s 4ms/step - loss: 0.0036 - acc: 0.9977 - val_loss: 2.3374 - val_acc: 0.7009\n",
      "Epoch 130/150\n",
      "428/428 [==============================] - 2s 4ms/step - loss: 0.0121 - acc: 0.9953 - val_loss: 2.3556 - val_acc: 0.7009\n",
      "Epoch 131/150\n",
      "428/428 [==============================] - 2s 4ms/step - loss: 0.0034 - acc: 0.9977 - val_loss: 2.3511 - val_acc: 0.7103\n",
      "Epoch 132/150\n",
      "428/428 [==============================] - 2s 4ms/step - loss: 0.0028 - acc: 0.9977 - val_loss: 2.3992 - val_acc: 0.7290\n",
      "Epoch 133/150\n",
      "428/428 [==============================] - 2s 4ms/step - loss: 0.0156 - acc: 0.9953 - val_loss: 2.6802 - val_acc: 0.6916\n",
      "Epoch 134/150\n",
      "428/428 [==============================] - 1s 3ms/step - loss: 0.0070 - acc: 0.9977 - val_loss: 2.6831 - val_acc: 0.7196\n",
      "Epoch 135/150\n",
      "428/428 [==============================] - 2s 4ms/step - loss: 0.0013 - acc: 1.0000 - val_loss: 2.8393 - val_acc: 0.6729\n",
      "Epoch 136/150\n",
      "428/428 [==============================] - 1s 3ms/step - loss: 8.5588e-04 - acc: 1.0000 - val_loss: 2.8353 - val_acc: 0.6916\n",
      "Epoch 137/150\n",
      "428/428 [==============================] - 1s 3ms/step - loss: 0.0028 - acc: 1.0000 - val_loss: 3.2079 - val_acc: 0.6542\n",
      "Epoch 138/150\n",
      "428/428 [==============================] - 1s 3ms/step - loss: 0.0247 - acc: 0.9953 - val_loss: 2.5529 - val_acc: 0.7009\n",
      "Epoch 139/150\n",
      "428/428 [==============================] - 1s 3ms/step - loss: 0.0217 - acc: 0.9930 - val_loss: 2.7895 - val_acc: 0.6729\n",
      "Epoch 140/150\n",
      "428/428 [==============================] - 1s 3ms/step - loss: 0.0024 - acc: 1.0000 - val_loss: 2.6246 - val_acc: 0.7103\n",
      "Epoch 141/150\n",
      "428/428 [==============================] - 1s 3ms/step - loss: 0.0073 - acc: 0.9977 - val_loss: 3.1019 - val_acc: 0.6822\n",
      "Epoch 142/150\n",
      "428/428 [==============================] - 1s 3ms/step - loss: 5.2037e-04 - acc: 1.0000 - val_loss: 2.8034 - val_acc: 0.6542\n",
      "Epoch 143/150\n",
      "428/428 [==============================] - 1s 3ms/step - loss: 8.6836e-04 - acc: 1.0000 - val_loss: 2.8728 - val_acc: 0.6636\n",
      "Epoch 144/150\n",
      "428/428 [==============================] - 1s 3ms/step - loss: 0.0065 - acc: 0.9977 - val_loss: 2.6694 - val_acc: 0.7196\n",
      "Epoch 145/150\n",
      "428/428 [==============================] - 2s 4ms/step - loss: 9.0362e-04 - acc: 1.0000 - val_loss: 2.7425 - val_acc: 0.7103\n",
      "Epoch 146/150\n",
      "428/428 [==============================] - 1s 3ms/step - loss: 6.1391e-04 - acc: 1.0000 - val_loss: 2.5800 - val_acc: 0.6916\n",
      "Epoch 147/150\n",
      "428/428 [==============================] - 1s 3ms/step - loss: 0.0180 - acc: 0.9953 - val_loss: 2.3411 - val_acc: 0.6916\n",
      "Epoch 148/150\n",
      "428/428 [==============================] - 1s 3ms/step - loss: 0.0032 - acc: 1.0000 - val_loss: 2.5708 - val_acc: 0.7290\n",
      "Epoch 149/150\n",
      "428/428 [==============================] - 1s 3ms/step - loss: 0.0014 - acc: 1.0000 - val_loss: 2.4481 - val_acc: 0.7477\n",
      "Epoch 150/150\n",
      "428/428 [==============================] - 1s 3ms/step - loss: 6.4844e-04 - acc: 1.0000 - val_loss: 2.4488 - val_acc: 0.7477\n"
     ]
    },
    {
     "data": {
      "text/plain": [
       "<keras.callbacks.History at 0x130181b38>"
      ]
     },
     "execution_count": 62,
     "metadata": {},
     "output_type": "execute_result"
    }
   ],
   "source": [
    "from model import create_model\n",
    "model = create_model(num_classes, feature_dim_1, feature_dim_2, channel)\n",
    "\n",
    "batch_size = 16\n",
    "epochs = 150\n",
    "verbose = 1\n",
    "model.fit(X_train, y_train_hot, batch_size=batch_size, epochs=epochs, verbose=verbose, validation_data=(X_test, y_test_hot))\n"
   ]
  },
  {
   "cell_type": "code",
   "execution_count": 63,
   "metadata": {},
   "outputs": [
    {
     "name": "stdout",
     "output_type": "stream",
     "text": [
      "/Users/king/Documents/Ein/语料/emodb/model.h5\n"
     ]
    }
   ],
   "source": [
    "out_model_fp = os.path.join(os.path.dirname(DATA_DIR), 'model.h5')\n",
    "print(out_model_fp)\n",
    "model.save(out_model_fp)"
   ]
  },
  {
   "cell_type": "code",
   "execution_count": 64,
   "metadata": {},
   "outputs": [],
   "source": [
    "from keras.models import load_model\n",
    "model = load_model(out_model_fp)"
   ]
  },
  {
   "cell_type": "markdown",
   "metadata": {},
   "source": [
    "## Prediction"
   ]
  },
  {
   "cell_type": "code",
   "execution_count": 69,
   "metadata": {},
   "outputs": [
    {
     "name": "stdout",
     "output_type": "stream",
     "text": [
      "('anger', 'boredom', 'neutral', 'happiness', 'anxiety/fear', 'sadness', 'disgust')\n",
      "labels: ('anger', 'boredom', 'neutral', 'happiness', 'anxiety/fear', 'sadness', 'disgust')\n",
      "probs: [3.8490800e-14 2.3486147e-13 2.1637300e-11 5.7349212e-12 1.6648218e-11\n",
      " 1.0000000e+00 4.5653650e-13]\n",
      "sadness\n"
     ]
    }
   ],
   "source": [
    "from model import predict\n",
    "\n",
    "labels = list(zip(*sorted(label_to_int_dict.items(), key=lambda x: x[1])))[0]\n",
    "print(labels)\n",
    "# audio_fp = os.path.join(DATA_DIR, '16b02Fd.wav')\n",
    "audio_fp = '/Users/king/Downloads/新录音-12.wav'\n",
    "sample = wav2mfcc(audio_fp, max_len)\n",
    "print(predict(sample, model=model, labels=labels))"
   ]
  },
  {
   "cell_type": "code",
   "execution_count": null,
   "metadata": {},
   "outputs": [],
   "source": []
  },
  {
   "cell_type": "code",
   "execution_count": null,
   "metadata": {},
   "outputs": [],
   "source": []
  }
 ],
 "metadata": {
  "kernelspec": {
   "display_name": "Python 3",
   "language": "python",
   "name": "python3"
  },
  "language_info": {
   "codemirror_mode": {
    "name": "ipython",
    "version": 3
   },
   "file_extension": ".py",
   "mimetype": "text/x-python",
   "name": "python",
   "nbconvert_exporter": "python",
   "pygments_lexer": "ipython3",
   "version": "3.6.5"
  },
  "widgets": {
   "application/vnd.jupyter.widget-state+json": {
    "state": {},
    "version_major": 2,
    "version_minor": 0
   }
  }
 },
 "nbformat": 4,
 "nbformat_minor": 2
}
